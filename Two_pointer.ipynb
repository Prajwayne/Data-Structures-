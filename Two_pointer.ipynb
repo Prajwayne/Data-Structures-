{
  "nbformat": 4,
  "nbformat_minor": 0,
  "metadata": {
    "colab": {
      "provenance": [],
      "authorship_tag": "ABX9TyP4d5S3qEQ/HrykgYIGuUcg",
      "include_colab_link": true
    },
    "kernelspec": {
      "name": "python3",
      "display_name": "Python 3"
    },
    "language_info": {
      "name": "python"
    }
  },
  "cells": [
    {
      "cell_type": "markdown",
      "metadata": {
        "id": "view-in-github",
        "colab_type": "text"
      },
      "source": [
        "<a href=\"https://colab.research.google.com/github/Prajwayne/Data-Structures-/blob/main/Two_pointer.ipynb\" target=\"_parent\"><img src=\"https://colab.research.google.com/assets/colab-badge.svg\" alt=\"Open In Colab\"/></a>"
      ]
    },
    {
      "cell_type": "markdown",
      "source": [
        "#Find the pair whose sum is equal to the target K (Unsorted array )"
      ],
      "metadata": {
        "id": "ZTy90up4qwfs"
      }
    },
    {
      "cell_type": "markdown",
      "source": [
        "Implement Binary Search "
      ],
      "metadata": {
        "id": "xgMjwvmPrEHH"
      }
    },
    {
      "cell_type": "code",
      "execution_count": 1,
      "metadata": {
        "id": "xHzrw4HRqk2J"
      },
      "outputs": [],
      "source": [
        "#A = List\n",
        "#Key = Traget Value \n",
        "#Sorted Array\n",
        "#time complexity = Log(n)\n",
        "#Space complexity = log(n)(Recursive)\n",
        "#Space cmplexity  = O(1) (Iterative) "
      ]
    },
    {
      "cell_type": "code",
      "source": [
        "#iteratively \n",
        "def BinSearch(Ar,left,right,key):\n",
        "  while left <= right:\n",
        "    mid = (left+right)//2\n",
        "    if Ar[mid] == key:\n",
        "      return mid\n",
        "    elif Ar[mid] < key:\n",
        "      left = mid+1\n",
        "\n",
        "    else:\n",
        "       #key <Ar[mid]\n",
        "       right = mid -1 \n",
        "\n",
        "  return -1 \n",
        "\n"
      ],
      "metadata": {
        "id": "8fVLztrDrQwI"
      },
      "execution_count": 3,
      "outputs": []
    },
    {
      "cell_type": "code",
      "source": [
        "Ar = [25,35,80,96,200,500,850,999]\n",
        "Key = 200\n",
        "BinSearch(Ar,0,len(Ar)-1,Key)"
      ],
      "metadata": {
        "colab": {
          "base_uri": "https://localhost:8080/"
        },
        "id": "kkBZTUums7X6",
        "outputId": "3f3fe6f4-6e25-43dd-f273-92c41ca63638"
      },
      "execution_count": 4,
      "outputs": [
        {
          "output_type": "execute_result",
          "data": {
            "text/plain": [
              "4"
            ]
          },
          "metadata": {},
          "execution_count": 4
        }
      ]
    }
  ]
}