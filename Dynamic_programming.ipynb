{
  "nbformat": 4,
  "nbformat_minor": 0,
  "metadata": {
    "colab": {
      "provenance": [],
      "authorship_tag": "ABX9TyNZxcoas49OrtwrdbQ3HbIj",
      "include_colab_link": true
    },
    "kernelspec": {
      "name": "python3",
      "display_name": "Python 3"
    },
    "language_info": {
      "name": "python"
    }
  },
  "cells": [
    {
      "cell_type": "markdown",
      "metadata": {
        "id": "view-in-github",
        "colab_type": "text"
      },
      "source": [
        "<a href=\"https://colab.research.google.com/github/Prajwayne/Data-Structures-/blob/main/Dynamic_programming.ipynb\" target=\"_parent\"><img src=\"https://colab.research.google.com/assets/colab-badge.svg\" alt=\"Open In Colab\"/></a>"
      ]
    },
    {
      "cell_type": "markdown",
      "source": [
        "Write a Fibonacci series : \n",
        "\n",
        "1. n=   1,2,3,4,5,6,7,8...........\n",
        "2. fib =  1,1,2,3,5,8,13,21.............\n",
        "the first and second number of the list is 1\n"
      ],
      "metadata": {
        "id": "yUoldTJ_qhff"
      }
    },
    {
      "cell_type": "code",
      "source": [
        "def fib(n):\n",
        "  if (n<=2):\n",
        "    return 1\n",
        "  return fib(n-1)+fib(n-2)"
      ],
      "metadata": {
        "id": "NJgYdmu_qBGK"
      },
      "execution_count": null,
      "outputs": []
    },
    {
      "cell_type": "code",
      "execution_count": null,
      "metadata": {
        "colab": {
          "base_uri": "https://localhost:8080/"
        },
        "id": "fK1T3V4tp69g",
        "outputId": "05f11858-6cee-4ed6-8248-743a1b784576"
      },
      "outputs": [
        {
          "output_type": "stream",
          "name": "stdout",
          "text": [
            "8\n",
            "13\n",
            "21\n"
          ]
        }
      ],
      "source": [
        "print(fib(6))\n",
        "print(fib(7))\n",
        "print(fib(8))"
      ]
    },
    {
      "cell_type": "markdown",
      "source": [
        "#Time Complexity O(2^n)"
      ],
      "metadata": {
        "id": "n4-vPq6M2Wpa"
      }
    },
    {
      "cell_type": "code",
      "source": [
        "# takes too much time to run \n",
        "print(fib(50))"
      ],
      "metadata": {
        "id": "3MExe8T9w0UL"
      },
      "execution_count": null,
      "outputs": []
    },
    {
      "cell_type": "markdown",
      "source": [],
      "metadata": {
        "id": "rM58BXDE2Tvb"
      }
    },
    {
      "cell_type": "markdown",
      "source": [
        "Memoization "
      ],
      "metadata": {
        "id": "91v9FW2u0qcI"
      }
    },
    {
      "cell_type": "code",
      "source": [
        "#Keys will be arg to  functions and values will be the return value "
      ],
      "metadata": {
        "id": "aK8Sgo172TKj"
      },
      "execution_count": null,
      "outputs": []
    },
    {
      "cell_type": "code",
      "source": [
        "# store dupicate subproblems in a dictionary \n",
        "#use n as the key and return the results of n instead of perfroming same caluculations \n",
        "\n",
        "def fib(n, memo={}):\n",
        "    if n in memo:\n",
        "        return memo[n]\n",
        "    if n <= 2:\n",
        "        return 1\n",
        "    memo[n] = fib(n - 1, memo) + fib(n - 2, memo)\n",
        "    return memo[n]"
      ],
      "metadata": {
        "id": "3iSu57sE050V"
      },
      "execution_count": 1,
      "outputs": []
    },
    {
      "cell_type": "code",
      "source": [
        "print(fib(50))"
      ],
      "metadata": {
        "id": "8rHJAsEUvQsT",
        "colab": {
          "base_uri": "https://localhost:8080/"
        },
        "outputId": "98d956f7-e718-46ee-d0ab-34dffc3c5079"
      },
      "execution_count": 2,
      "outputs": [
        {
          "output_type": "stream",
          "name": "stdout",
          "text": [
            "12586269025\n"
          ]
        }
      ]
    },
    {
      "cell_type": "code",
      "source": [],
      "metadata": {
        "id": "3WMvn7Y_vQm0"
      },
      "execution_count": null,
      "outputs": []
    }
  ]
}