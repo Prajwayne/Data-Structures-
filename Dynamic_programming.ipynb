{
  "nbformat": 4,
  "nbformat_minor": 0,
  "metadata": {
    "colab": {
      "provenance": [],
      "authorship_tag": "ABX9TyPAsj1snuxKRxchFk8Jship",
      "include_colab_link": true
    },
    "kernelspec": {
      "name": "python3",
      "display_name": "Python 3"
    },
    "language_info": {
      "name": "python"
    }
  },
  "cells": [
    {
      "cell_type": "markdown",
      "metadata": {
        "id": "view-in-github",
        "colab_type": "text"
      },
      "source": [
        "<a href=\"https://colab.research.google.com/github/Prajwayne/Data-Structures-/blob/main/Dynamic_programming.ipynb\" target=\"_parent\"><img src=\"https://colab.research.google.com/assets/colab-badge.svg\" alt=\"Open In Colab\"/></a>"
      ]
    },
    {
      "cell_type": "markdown",
      "source": [
        "Write a Fibonacci series : \n",
        "\n",
        "1. n=   1,2,3,4,5,6,7,8...........\n",
        "2. fib =  1,1,2,3,5,8,13,21.............\n",
        "the first and second number of the list is 1\n"
      ],
      "metadata": {
        "id": "yUoldTJ_qhff"
      }
    },
    {
      "cell_type": "code",
      "source": [
        "def fib(n):\n",
        "  if (n<=2):\n",
        "    return 1\n",
        "  return fib(n-1)+fib(n-2)"
      ],
      "metadata": {
        "id": "NJgYdmu_qBGK"
      },
      "execution_count": 7,
      "outputs": []
    },
    {
      "cell_type": "code",
      "execution_count": 8,
      "metadata": {
        "colab": {
          "base_uri": "https://localhost:8080/"
        },
        "id": "fK1T3V4tp69g",
        "outputId": "05f11858-6cee-4ed6-8248-743a1b784576"
      },
      "outputs": [
        {
          "output_type": "stream",
          "name": "stdout",
          "text": [
            "8\n",
            "13\n",
            "21\n"
          ]
        }
      ],
      "source": [
        "print(fib(6))\n",
        "print(fib(7))\n",
        "print(fib(8))"
      ]
    }
  ]
}